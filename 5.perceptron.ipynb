{
  "nbformat": 4,
  "nbformat_minor": 0,
  "metadata": {
    "colab": {
      "name": "perceptron.ipynb",
      "provenance": [],
      "authorship_tag": "ABX9TyOZr7SsJ5DVUcQcFb6f+gXu",
      "include_colab_link": true
    },
    "kernelspec": {
      "name": "python3",
      "display_name": "Python 3"
    },
    "language_info": {
      "name": "python"
    }
  },
  "cells": [
    {
      "cell_type": "markdown",
      "metadata": {
        "id": "view-in-github",
        "colab_type": "text"
      },
      "source": [
        "<a href=\"https://colab.research.google.com/github/ghdakrk/computr_vision/blob/main/perceptron.ipynb\" target=\"_parent\"><img src=\"https://colab.research.google.com/assets/colab-badge.svg\" alt=\"Open In Colab\"/></a>"
      ]
    },
    {
      "cell_type": "code",
      "execution_count": 7,
      "metadata": {
        "id": "L3--u8z9H8GF"
      },
      "outputs": [],
      "source": [
        "import numpy as np\n",
        "\n",
        "class Neuron:\n",
        "    ''' 간단한 전방 전달 인공 뉴런.\n",
        "    Args:\n",
        "        num_input (int): 입력벡터 크기 / 입력값 개수.\n",
        "        activation_fn (callable): 활성화 함수.\n",
        "    Attributes:\n",
        "        W (ndarray): 각 입력에 대한 가중치\n",
        "        b (float): 편향값, 가중하베 더해짐\n",
        "        activation_fn (callable): 활성화 함수.\n",
        "    '''\n",
        "\n",
        "    def __init__(self, num_inputs, activation_fn):\n",
        "        # 랜덤값으로 가중치 벡터와 편향값을 초기화함:\n",
        "        self.W = np.random.rand(num_inputs)\n",
        "        self.b = np.random.rand(1)\n",
        "        self.activation_fn = activation_fn\n",
        "\n",
        "    def forward(self, x):\n",
        "        '''뉴런을 통해 입력 신호를 전달.'''\n",
        "        z = np.dot(x, self.W) + self.b\n",
        "        return self.activation_fn(z)"
      ]
    },
    {
      "cell_type": "code",
      "source": [
        "# 결과를 복제할 수 있도록 랜덤 숫자 생성기의 시드값을 고정\n",
        "np.random.seed(42)\n",
        "# 3개의 랜덤 입력을 칼럼으로 받을 수 있는 배열 (shape = `(1, 3)`)\n",
        "x = np.random.rand(3).reshape(1, 3) \n",
        "# array([[0.37454012, 0.95071431, 0.73199394]])\n",
        "\n",
        "# 퍼셉트론을 인스턴스화(계단 함수를 사용하는 간단한 뉴런)\n",
        "step_fn = lambda y: 0 if y <= 0 else 1\n",
        "perceptron = Neuron(num_inputs=x.size, activation_fn=step_fn)\n",
        "out = perceptron.forward(x)\n",
        "out"
      ],
      "metadata": {
        "colab": {
          "base_uri": "https://localhost:8080/"
        },
        "id": "H2PZB8BeJMFP",
        "outputId": "0fcb2749-72dd-4de4-9ef8-2d7eed5fc103"
      },
      "execution_count": 10,
      "outputs": [
        {
          "output_type": "execute_result",
          "data": {
            "text/plain": [
              "1"
            ]
          },
          "metadata": {},
          "execution_count": 10
        }
      ]
    },
    {
      "cell_type": "code",
      "source": [
        ""
      ],
      "metadata": {
        "colab": {
          "base_uri": "https://localhost:8080/"
        },
        "id": "Q0Eswc33Lb52",
        "outputId": "b34f5bf5-7058-4b23-82b7-f035a0aa9954"
      },
      "execution_count": 11,
      "outputs": [
        {
          "output_type": "execute_result",
          "data": {
            "text/plain": [
              "1"
            ]
          },
          "metadata": {},
          "execution_count": 11
        }
      ]
    },
    {
      "cell_type": "code",
      "source": [
        "class FullyConnectedLayer:\n",
        "    ''' 간단한 전방 전달 인공 뉴런.\n",
        "    Args:\n",
        "        num_input (int): 입력벡터 크기 / 입력값 개수.\n",
        "        layer_size (int): 출력 벡터의 크기 / 뉴런의 개수.\n",
        "        activation_fn (callable): 활성화 함수.\n",
        "    Attributes:\n",
        "        W (ndarray): 각 입력에 대한 가중치\n",
        "        b (float): 편향값, 가중하베 더해짐\n",
        "        size (int): 계층의크기 / 뉴런의 개수\n",
        "        activation_fn (callable): 활성화 함수.\n",
        "    '''\n",
        "\n",
        "    def __init__(self, num_inputs, layer_size, activation_fn):\n",
        "        # 랜덤값으로 가중치 벡터와 편향값을 초기화함:\n",
        "        self.W = np.random.standard_normal((num_inputs, layer_size))\n",
        "        self.b = np.random.standard_normal(layer_size)\n",
        "        self.size = layer_size\n",
        "        self.activation_fn = activation_fn\n",
        "\n",
        "    def forward(self, x):\n",
        "        '''뉴런을 통해 입력 신호를 전달.'''\n",
        "        z = np.dot(x, self.W) + self.b\n",
        "        return self.activation_fn(z)"
      ],
      "metadata": {
        "id": "xt6ikbdgMd36"
      },
      "execution_count": 12,
      "outputs": []
    },
    {
      "cell_type": "code",
      "source": [
        "np.random.seed(42)\n",
        "# 2개의 값을 갖는 램덤 입력 칼럼 벡터 (shape = `(1,2)`):\n",
        "x1 = np.random.uniform(-1, 1, 2).reshape(1, 2)\n",
        "x2 = np.random.uniform(-1, 1, 2).reshape(1, 2)\n",
        "\n",
        "relu_fn = lambda y: np.maximum(y, 0)\n",
        "layer = FullyConnectedLayer(2, 3, relu_fn)\n",
        "\n",
        "out1 = layer.forward(x1)\n",
        "out2 = layer.forward(x2)\n",
        "x12 = np.concatenate((x1,x2))\n",
        "out12 = layer.forward(x12)\n",
        "\n",
        "out12"
      ],
      "metadata": {
        "colab": {
          "base_uri": "https://localhost:8080/"
        },
        "id": "1Gpwox88NoWj",
        "outputId": "5b806d88-22d9-4e11-db72-1359b80d4113"
      },
      "execution_count": 17,
      "outputs": [
        {
          "output_type": "execute_result",
          "data": {
            "text/plain": [
              "array([[0.28712364, 0.        , 0.33478571],\n",
              "       [0.        , 0.        , 1.08175419]])"
            ]
          },
          "metadata": {},
          "execution_count": 17
        }
      ]
    },
    {
      "cell_type": "code",
      "source": [
        "np.random.uniform(-1, 1, 2)"
      ],
      "metadata": {
        "colab": {
          "base_uri": "https://localhost:8080/"
        },
        "id": "2eLtsj1_O0VS",
        "outputId": "ff1029d5-23f7-4053-f557-da11abb38932"
      },
      "execution_count": 16,
      "outputs": [
        {
          "output_type": "execute_result",
          "data": {
            "text/plain": [
              "array([-0.68796272, -0.68801096])"
            ]
          },
          "metadata": {},
          "execution_count": 16
        }
      ]
    },
    {
      "cell_type": "code",
      "source": [
        ""
      ],
      "metadata": {
        "id": "LldO1Jl_O37c"
      },
      "execution_count": null,
      "outputs": []
    }
  ]
}
